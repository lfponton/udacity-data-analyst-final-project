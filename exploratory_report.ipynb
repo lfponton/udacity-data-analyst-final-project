{
 "cells": [
  {
   "cell_type": "markdown",
   "metadata": {},
   "source": [
    "# Ford GoBike System Data Report"
   ]
  },
  {
   "cell_type": "markdown",
   "metadata": {},
   "source": [
    "## Introduction"
   ]
  },
  {
   "cell_type": "markdown",
   "metadata": {},
   "source": [
    "This document explores a dataset containing data from Ford GoBike, a Bay Area's bike sharing system.\n",
    "\n",
    "You can check the definition of the variables included here: https://www.lyft.com/bikes/bay-wheels/system-data\n",
    "\n",
    "Ford GoBike has data from mid 2017 to mid 2020. For the purpose of this analysis, I will focus on data for 2019, which includes data for 2506983 trips.\n",
    "\n",
    "Some variables included in the 2019 dataset, bike_share_for_all_trip and rental_access_method, are have not been defined by Ford GoBike."
   ]
  },
  {
   "cell_type": "markdown",
   "metadata": {},
   "source": [
    "## Preliminary Wrangling"
   ]
  },
  {
   "cell_type": "code",
   "execution_count": 1,
   "metadata": {},
   "outputs": [],
   "source": [
    "# import all packages and set plots to be embedded inline\n",
    "import os\n",
    "import glob\n",
    "import requests\n",
    "import zipfile\n",
    "import pandas as pd\n",
    "import numpy as np\n",
    "import seaborn as sns\n",
    "import matplotlib.pyplot as plt\n",
    "%matplotlib inline\n",
    "from ipyleaflet import Map, Heatmap\n",
    "\n",
    "# suppress warnings from final output\n",
    "import warnings\n",
    "warnings.simplefilter(\"ignore\")"
   ]
  },
  {
   "cell_type": "markdown",
   "metadata": {},
   "source": [
    "## Gathering the data"
   ]
  },
  {
   "cell_type": "markdown",
   "metadata": {},
   "source": [
    "The dataset provided by Ford GoBike is available in multiple data files. In this section the data is downloaded programmatically and saved into a CSV file."
   ]
  },
  {
   "cell_type": "code",
   "execution_count": 2,
   "metadata": {},
   "outputs": [],
   "source": [
    "# Create a list with the urls of the datasets to download\n",
    "urls = []\n",
    "for n in range(1,13):\n",
    "    if n < 10:\n",
    "        url = 'https://s3.amazonaws.com/baywheels-data/20190{}-fordgobike-tripdata.csv.zip'.format(n)\n",
    "        urls.append(url)\n",
    "    else:\n",
    "        url = 'https://s3.amazonaws.com/baywheels-data/2019{}-fordgobike-tripdata.csv.zip'.format(n)\n",
    "        urls.append(url)"
   ]
  },
  {
   "cell_type": "code",
   "execution_count": 3,
   "metadata": {},
   "outputs": [],
   "source": [
    "# Some of the urls included the string baywheels, instead of fordgobike\n",
    "for i in range(4, 12):\n",
    "    urls[i] = urls[i].replace('fordgobike', 'baywheels')"
   ]
  },
  {
   "cell_type": "code",
   "execution_count": 4,
   "metadata": {},
   "outputs": [],
   "source": [
    "# Download files, unzip the downloaded file and remove the ZIP file.\n",
    "n = 0\n",
    "for i in urls:\n",
    "    csv_request = requests.get(i, allow_redirects=True)\n",
    "    open(urls[n][40:], 'wb').write(csv_request.content)\n",
    "    with zipfile.ZipFile(urls[n][40:], 'r') as zip_ref:\n",
    "        zip_ref.extractall()\n",
    "    os.remove(urls[n][40:])\n",
    "    n += 1"
   ]
  },
  {
   "cell_type": "code",
   "execution_count": 5,
   "metadata": {},
   "outputs": [],
   "source": [
    "# Assing all file names to the variable 'files'\n",
    "extension = 'csv'\n",
    "files = [i for i in glob.glob('*.{}'.format(extension))]"
   ]
  },
  {
   "cell_type": "code",
   "execution_count": 6,
   "metadata": {},
   "outputs": [],
   "source": [
    "# Combine all files in the list\n",
    "combined_csv = pd.concat([pd.read_csv(f) for f in files ])\n",
    "# Export to csv\n",
    "combined_csv.to_csv( \"fordgobike.csv\", index=False, encoding='utf-8')"
   ]
  },
  {
   "cell_type": "code",
   "execution_count": 7,
   "metadata": {},
   "outputs": [],
   "source": [
    "# Create a data frame with all variable types as object\n",
    "df = pd.read_csv('fordgobike.csv', dtype='object')"
   ]
  },
  {
   "cell_type": "markdown",
   "metadata": {},
   "source": [
    "## Assessing the data"
   ]
  },
  {
   "cell_type": "markdown",
   "metadata": {},
   "source": [
    "The main focus of this analysis will be on the following variables:\n",
    "\n",
    "- duration_sec\n",
    "- start_time\n",
    "- user_type\n",
    "\n",
    "I will also use latitude and longitude to create an interactive heat map at the end.\n",
    "\n",
    "These variables have no null values.\n",
    "\n",
    "Issues to solve in the cleaning process:\n",
    "1. Convert duration_sec to integers, start_time to dates, and user_type to category.\n",
    "2. Create variables for month, weekday and hour.\n",
    "3. Rename start_station_latitude and start_station_longitude to 'lat' and 'lon'.\n",
    "4. Remove irrelevant variables\n"
   ]
  },
  {
   "cell_type": "code",
   "execution_count": 8,
   "metadata": {},
   "outputs": [
    {
     "name": "stdout",
     "output_type": "stream",
     "text": [
      "<class 'pandas.core.frame.DataFrame'>\n",
      "RangeIndex: 2506983 entries, 0 to 2506982\n",
      "Data columns (total 15 columns):\n",
      " #   Column                   Non-Null Count    Dtype \n",
      "---  ------                   --------------    ----- \n",
      " 0   duration_sec             2506983 non-null  object\n",
      " 1   start_time               2506983 non-null  object\n",
      " 2   end_time                 2506983 non-null  object\n",
      " 3   start_station_id         2426249 non-null  object\n",
      " 4   start_station_name       2426850 non-null  object\n",
      " 5   start_station_latitude   2506983 non-null  object\n",
      " 6   start_station_longitude  2506983 non-null  object\n",
      " 7   end_station_id           2424081 non-null  object\n",
      " 8   end_station_name         2424633 non-null  object\n",
      " 9   end_station_latitude     2506983 non-null  object\n",
      " 10  end_station_longitude    2506983 non-null  object\n",
      " 11  bike_id                  2506983 non-null  object\n",
      " 12  user_type                2506983 non-null  object\n",
      " 13  bike_share_for_all_trip  2263724 non-null  object\n",
      " 14  rental_access_method     120838 non-null   object\n",
      "dtypes: object(15)\n",
      "memory usage: 286.9+ MB\n"
     ]
    }
   ],
   "source": [
    "df.info(null_counts=True)"
   ]
  },
  {
   "cell_type": "code",
   "execution_count": 9,
   "metadata": {},
   "outputs": [
    {
     "data": {
      "text/plain": [
       "Subscriber    2021166\n",
       "Customer       485817\n",
       "Name: user_type, dtype: int64"
      ]
     },
     "execution_count": 9,
     "metadata": {},
     "output_type": "execute_result"
    }
   ],
   "source": [
    "df.user_type.value_counts()"
   ]
  },
  {
   "cell_type": "markdown",
   "metadata": {},
   "source": [
    "## Clean"
   ]
  },
  {
   "cell_type": "code",
   "execution_count": 10,
   "metadata": {},
   "outputs": [],
   "source": [
    "# Creata a copy of the orginal data frame\n",
    "trips = df.copy()"
   ]
  },
  {
   "cell_type": "markdown",
   "metadata": {},
   "source": [
    "**Define**: Convert duration_sec to integers, start_time to dates, and user_type to category."
   ]
  },
  {
   "cell_type": "markdown",
   "metadata": {},
   "source": [
    "**Code**"
   ]
  },
  {
   "cell_type": "code",
   "execution_count": 11,
   "metadata": {},
   "outputs": [],
   "source": [
    "# Convert start_time to date format\n",
    "trips.start_time = pd.to_datetime(trips.start_time)"
   ]
  },
  {
   "cell_type": "code",
   "execution_count": 12,
   "metadata": {},
   "outputs": [],
   "source": [
    "# Convert duration_sec to integer format\n",
    "trips.duration_sec = trips.duration_sec.astype('int')"
   ]
  },
  {
   "cell_type": "code",
   "execution_count": 13,
   "metadata": {},
   "outputs": [],
   "source": [
    "# Convert user_type to category format\n",
    "trips.user_type = trips.user_type.astype('category')"
   ]
  },
  {
   "cell_type": "markdown",
   "metadata": {},
   "source": [
    "**Test**"
   ]
  },
  {
   "cell_type": "code",
   "execution_count": 14,
   "metadata": {},
   "outputs": [
    {
     "data": {
      "text/plain": [
       "start_time      datetime64[ns]\n",
       "duration_sec             int64\n",
       "user_type             category\n",
       "dtype: object"
      ]
     },
     "execution_count": 14,
     "metadata": {},
     "output_type": "execute_result"
    }
   ],
   "source": [
    "trips[['start_time', 'duration_sec', 'user_type']].dtypes"
   ]
  },
  {
   "cell_type": "markdown",
   "metadata": {},
   "source": [
    "**Define**: Create separate columns for start month, weekday and hour, and covert them to category format."
   ]
  },
  {
   "cell_type": "markdown",
   "metadata": {},
   "source": [
    "**Code**"
   ]
  },
  {
   "cell_type": "code",
   "execution_count": 15,
   "metadata": {},
   "outputs": [],
   "source": [
    "# Create month column\n",
    "trips['month'] = trips['start_time'].dt.strftime('%b')"
   ]
  },
  {
   "cell_type": "code",
   "execution_count": 16,
   "metadata": {},
   "outputs": [],
   "source": [
    "# Create weekday column\n",
    "trips['weekday'] = trips['start_time'].dt.strftime('%a')"
   ]
  },
  {
   "cell_type": "code",
   "execution_count": 17,
   "metadata": {},
   "outputs": [],
   "source": [
    "# Create hour column\n",
    "trips['hour'] = trips['start_time'].dt.strftime('%H')"
   ]
  },
  {
   "cell_type": "code",
   "execution_count": 18,
   "metadata": {},
   "outputs": [],
   "source": [
    "# Convert month column to sorted category format\n",
    "months = [\"Jan\", \"Feb\", \"Mar\", \"Apr\", \"May\", \"Jun\", \n",
    "          \"Jul\", \"Aug\", \"Sep\", \"Oct\", \"Nov\", \"Dec\"]\n",
    "trips['month'] = pd.Categorical(trips['month'], categories=months, ordered=True)"
   ]
  },
  {
   "cell_type": "code",
   "execution_count": 19,
   "metadata": {},
   "outputs": [],
   "source": [
    "# Convert weekday column to sorted category format\n",
    "weekdays = [\"Mon\", \"Tue\", \"Wed\", \"Thu\", \"Fri\", \"Sat\", \n",
    "          \"Sun\"]\n",
    "trips['weekday'] = pd.Categorical(trips['weekday'], categories=weekdays, ordered=True)"
   ]
  },
  {
   "cell_type": "code",
   "execution_count": 20,
   "metadata": {},
   "outputs": [],
   "source": [
    "# Convert hour column to sorted category format\n",
    "hours = list(trips['hour'].value_counts().index.sort_values())\n",
    "trips['hour'] = pd.Categorical(trips['hour'], categories=hours, ordered=True)"
   ]
  },
  {
   "cell_type": "markdown",
   "metadata": {},
   "source": [
    "**Test**"
   ]
  },
  {
   "cell_type": "code",
   "execution_count": 21,
   "metadata": {},
   "outputs": [
    {
     "data": {
      "text/plain": [
       "Jul    258102\n",
       "Mar    256299\n",
       "Oct    239895\n",
       "Apr    239111\n",
       "Sep    217986\n",
       "Aug    210563\n",
       "Jan    192082\n",
       "Jun    191772\n",
       "Nov    185496\n",
       "Feb    183412\n",
       "May    182163\n",
       "Dec    150102\n",
       "Name: month, dtype: int64"
      ]
     },
     "execution_count": 21,
     "metadata": {},
     "output_type": "execute_result"
    }
   ],
   "source": [
    "trips.month.value_counts()"
   ]
  },
  {
   "cell_type": "code",
   "execution_count": 22,
   "metadata": {},
   "outputs": [
    {
     "data": {
      "text/plain": [
       "Tue    427640\n",
       "Thu    424474\n",
       "Wed    414448\n",
       "Fri    397284\n",
       "Mon    396463\n",
       "Sat    234370\n",
       "Sun    212304\n",
       "Name: weekday, dtype: int64"
      ]
     },
     "execution_count": 22,
     "metadata": {},
     "output_type": "execute_result"
    }
   ],
   "source": [
    "trips.weekday.value_counts()"
   ]
  },
  {
   "cell_type": "code",
   "execution_count": 23,
   "metadata": {},
   "outputs": [
    {
     "data": {
      "text/plain": [
       "17    296831\n",
       "08    278632\n",
       "18    233587\n",
       "09    215877\n",
       "16    193253\n",
       "19    143924\n",
       "07    142099\n",
       "15    124925\n",
       "12    114164\n",
       "13    111727\n",
       "10    110032\n",
       "14    108157\n",
       "11    103194\n",
       "20     92283\n",
       "21     65063\n",
       "06     53574\n",
       "22     44412\n",
       "23     26393\n",
       "00     14686\n",
       "05     13479\n",
       "01      8788\n",
       "02      5682\n",
       "04      3442\n",
       "03      2779\n",
       "Name: hour, dtype: int64"
      ]
     },
     "execution_count": 23,
     "metadata": {},
     "output_type": "execute_result"
    }
   ],
   "source": [
    "trips.hour.value_counts()"
   ]
  },
  {
   "cell_type": "code",
   "execution_count": 24,
   "metadata": {},
   "outputs": [
    {
     "name": "stdout",
     "output_type": "stream",
     "text": [
      "<class 'pandas.core.frame.DataFrame'>\n",
      "RangeIndex: 2506983 entries, 0 to 2506982\n",
      "Data columns (total 3 columns):\n",
      " #   Column   Non-Null Count    Dtype   \n",
      "---  ------   --------------    -----   \n",
      " 0   month    2506983 non-null  category\n",
      " 1   weekday  2506983 non-null  category\n",
      " 2   hour     2506983 non-null  category\n",
      "dtypes: category(3)\n",
      "memory usage: 7.2 MB\n"
     ]
    }
   ],
   "source": [
    "trips[['month', 'weekday', 'hour']].info(null_counts=True)"
   ]
  },
  {
   "cell_type": "markdown",
   "metadata": {},
   "source": [
    "**Define**: Rename start_station_latitude and start_station_longitude to 'lat' and 'lon'."
   ]
  },
  {
   "cell_type": "markdown",
   "metadata": {},
   "source": [
    "**Code**"
   ]
  },
  {
   "cell_type": "code",
   "execution_count": 25,
   "metadata": {},
   "outputs": [],
   "source": [
    "trips['lat'] = trips['start_station_latitude']\n",
    "trips['lon'] = trips['start_station_longitude']"
   ]
  },
  {
   "cell_type": "markdown",
   "metadata": {},
   "source": [
    "**Test**"
   ]
  },
  {
   "cell_type": "code",
   "execution_count": 26,
   "metadata": {},
   "outputs": [
    {
     "data": {
      "text/html": [
       "<div>\n",
       "<style scoped>\n",
       "    .dataframe tbody tr th:only-of-type {\n",
       "        vertical-align: middle;\n",
       "    }\n",
       "\n",
       "    .dataframe tbody tr th {\n",
       "        vertical-align: top;\n",
       "    }\n",
       "\n",
       "    .dataframe thead th {\n",
       "        text-align: right;\n",
       "    }\n",
       "</style>\n",
       "<table border=\"1\" class=\"dataframe\">\n",
       "  <thead>\n",
       "    <tr style=\"text-align: right;\">\n",
       "      <th></th>\n",
       "      <th>lat</th>\n",
       "      <th>lon</th>\n",
       "    </tr>\n",
       "  </thead>\n",
       "  <tbody>\n",
       "    <tr>\n",
       "      <th>0</th>\n",
       "      <td>37.7763288173</td>\n",
       "      <td>-122.394438386</td>\n",
       "    </tr>\n",
       "    <tr>\n",
       "      <th>1</th>\n",
       "      <td>37.327581</td>\n",
       "      <td>-121.88455900000001</td>\n",
       "    </tr>\n",
       "    <tr>\n",
       "      <th>2</th>\n",
       "      <td>37.7873267661</td>\n",
       "      <td>-122.41327822209999</td>\n",
       "    </tr>\n",
       "    <tr>\n",
       "      <th>3</th>\n",
       "      <td>37.7633158</td>\n",
       "      <td>-122.4219039</td>\n",
       "    </tr>\n",
       "    <tr>\n",
       "      <th>4</th>\n",
       "      <td>37.7662185</td>\n",
       "      <td>-122.4310597</td>\n",
       "    </tr>\n",
       "  </tbody>\n",
       "</table>\n",
       "</div>"
      ],
      "text/plain": [
       "             lat                  lon\n",
       "0  37.7763288173       -122.394438386\n",
       "1      37.327581  -121.88455900000001\n",
       "2  37.7873267661  -122.41327822209999\n",
       "3     37.7633158         -122.4219039\n",
       "4     37.7662185         -122.4310597"
      ]
     },
     "execution_count": 26,
     "metadata": {},
     "output_type": "execute_result"
    }
   ],
   "source": [
    "trips[['lat', 'lon']].head()"
   ]
  },
  {
   "cell_type": "markdown",
   "metadata": {},
   "source": [
    "**Define**: Remove irrelevant variables"
   ]
  },
  {
   "cell_type": "markdown",
   "metadata": {},
   "source": [
    "**Code**"
   ]
  },
  {
   "cell_type": "code",
   "execution_count": 27,
   "metadata": {},
   "outputs": [],
   "source": [
    "trips = trips[['duration_sec', 'month', 'weekday', 'hour', 'user_type', 'lat', 'lon']]"
   ]
  },
  {
   "cell_type": "markdown",
   "metadata": {},
   "source": [
    "**Test**"
   ]
  },
  {
   "cell_type": "code",
   "execution_count": 28,
   "metadata": {},
   "outputs": [
    {
     "data": {
      "text/html": [
       "<div>\n",
       "<style scoped>\n",
       "    .dataframe tbody tr th:only-of-type {\n",
       "        vertical-align: middle;\n",
       "    }\n",
       "\n",
       "    .dataframe tbody tr th {\n",
       "        vertical-align: top;\n",
       "    }\n",
       "\n",
       "    .dataframe thead th {\n",
       "        text-align: right;\n",
       "    }\n",
       "</style>\n",
       "<table border=\"1\" class=\"dataframe\">\n",
       "  <thead>\n",
       "    <tr style=\"text-align: right;\">\n",
       "      <th></th>\n",
       "      <th>duration_sec</th>\n",
       "      <th>month</th>\n",
       "      <th>weekday</th>\n",
       "      <th>hour</th>\n",
       "      <th>user_type</th>\n",
       "      <th>lat</th>\n",
       "      <th>lon</th>\n",
       "    </tr>\n",
       "  </thead>\n",
       "  <tbody>\n",
       "    <tr>\n",
       "      <th>0</th>\n",
       "      <td>60863</td>\n",
       "      <td>Sep</td>\n",
       "      <td>Mon</td>\n",
       "      <td>11</td>\n",
       "      <td>Customer</td>\n",
       "      <td>37.7763288173</td>\n",
       "      <td>-122.394438386</td>\n",
       "    </tr>\n",
       "    <tr>\n",
       "      <th>1</th>\n",
       "      <td>36019</td>\n",
       "      <td>Sep</td>\n",
       "      <td>Mon</td>\n",
       "      <td>16</td>\n",
       "      <td>Customer</td>\n",
       "      <td>37.327581</td>\n",
       "      <td>-121.88455900000001</td>\n",
       "    </tr>\n",
       "    <tr>\n",
       "      <th>2</th>\n",
       "      <td>5615</td>\n",
       "      <td>Sep</td>\n",
       "      <td>Mon</td>\n",
       "      <td>23</td>\n",
       "      <td>Customer</td>\n",
       "      <td>37.7873267661</td>\n",
       "      <td>-122.41327822209999</td>\n",
       "    </tr>\n",
       "    <tr>\n",
       "      <th>3</th>\n",
       "      <td>1482</td>\n",
       "      <td>Sep</td>\n",
       "      <td>Mon</td>\n",
       "      <td>23</td>\n",
       "      <td>Customer</td>\n",
       "      <td>37.7633158</td>\n",
       "      <td>-122.4219039</td>\n",
       "    </tr>\n",
       "    <tr>\n",
       "      <th>4</th>\n",
       "      <td>1272</td>\n",
       "      <td>Sep</td>\n",
       "      <td>Mon</td>\n",
       "      <td>23</td>\n",
       "      <td>Subscriber</td>\n",
       "      <td>37.7662185</td>\n",
       "      <td>-122.4310597</td>\n",
       "    </tr>\n",
       "  </tbody>\n",
       "</table>\n",
       "</div>"
      ],
      "text/plain": [
       "   duration_sec month weekday hour   user_type            lat  \\\n",
       "0         60863   Sep     Mon   11    Customer  37.7763288173   \n",
       "1         36019   Sep     Mon   16    Customer      37.327581   \n",
       "2          5615   Sep     Mon   23    Customer  37.7873267661   \n",
       "3          1482   Sep     Mon   23    Customer     37.7633158   \n",
       "4          1272   Sep     Mon   23  Subscriber     37.7662185   \n",
       "\n",
       "                   lon  \n",
       "0       -122.394438386  \n",
       "1  -121.88455900000001  \n",
       "2  -122.41327822209999  \n",
       "3         -122.4219039  \n",
       "4         -122.4310597  "
      ]
     },
     "execution_count": 28,
     "metadata": {},
     "output_type": "execute_result"
    }
   ],
   "source": [
    "trips.head()"
   ]
  },
  {
   "cell_type": "markdown",
   "metadata": {},
   "source": [
    "## Exploratory"
   ]
  },
  {
   "cell_type": "markdown",
   "metadata": {},
   "source": [
    "The following questions will work as a guideline to my exploration:\n",
    "\n",
    "- **When are most trips taken in terms of time of day, day of the week, or month of the year?**\n",
    "\n",
    "\n",
    "- **How long does the average trip take?**\n",
    "\n",
    "\n",
    "- **Does the duration of a trip per month, weekday or hour depend on if a user is a subscriber or customer?**"
   ]
  },
  {
   "cell_type": "markdown",
   "metadata": {},
   "source": [
    "### Univariate Exploration"
   ]
  },
  {
   "cell_type": "markdown",
   "metadata": {},
   "source": [
    "Question 1: **When are most trips taken in terms of time of day, day of the week, or month of the year?**"
   ]
  },
  {
   "cell_type": "markdown",
   "metadata": {},
   "source": [
    "Let's look at month first."
   ]
  },
  {
   "cell_type": "code",
   "execution_count": 29,
   "metadata": {},
   "outputs": [
    {
     "data": {
      "text/plain": [
       "Jul    258102\n",
       "Mar    256299\n",
       "Oct    239895\n",
       "Apr    239111\n",
       "Sep    217986\n",
       "Aug    210563\n",
       "Jan    192082\n",
       "Jun    191772\n",
       "Nov    185496\n",
       "Feb    183412\n",
       "May    182163\n",
       "Dec    150102\n",
       "Name: month, dtype: int64"
      ]
     },
     "execution_count": 29,
     "metadata": {},
     "output_type": "execute_result"
    }
   ],
   "source": [
    "trips.month.value_counts()"
   ]
  },
  {
   "cell_type": "markdown",
   "metadata": {},
   "source": [
    "The most popular month is July and the least is December."
   ]
  },
  {
   "cell_type": "code",
   "execution_count": 30,
   "metadata": {},
   "outputs": [
    {
     "data": {
      "image/png": "[encoded data removed]",
      "text/plain": [
       "<Figure size 432x288 with 1 Axes>"
      ]
     },
     "metadata": {
      "needs_background": "light"
     },
     "output_type": "display_data"
    }
   ],
   "source": [
    "base_color = sns.color_palette()[0]\n",
    "plt.rc('font', size=12)\n",
    "sns.countplot(data = trips, x = 'month', color=base_color);"
   ]
  },
  {
   "cell_type": "markdown",
   "metadata": {},
   "source": [
    "If we plot the relative frequencies:"
   ]
  },
  {
   "cell_type": "code",
   "execution_count": 31,
   "metadata": {},
   "outputs": [
    {
     "data": {
      "image/png": "[encoded data removed]",
      "text/plain": [
       "<Figure size 1080x360 with 1 Axes>"
      ]
     },
     "metadata": {
      "needs_background": "light"
     },
     "output_type": "display_data"
    }
   ],
   "source": [
    "plt.figure(figsize=(15,5))\n",
    "n_points = trips.shape[0]\n",
    "cat_counts = trips['month'].value_counts()\n",
    "max_count = cat_counts.max()\n",
    "max_prop = max_count / n_points\n",
    "\n",
    "# generate tick mark locations and names\n",
    "tick_props = np.arange(0, max_prop, 0.05)\n",
    "tick_names = ['{:0.2f}'.format(v) for v in tick_props]\n",
    "\n",
    "# create the plot\n",
    "sns.countplot(data = trips, x = 'month', color = base_color)\n",
    "plt.yticks(tick_props * n_points, tick_names)\n",
    "plt.ylabel('proportion')\n",
    "locs, labels = plt.xticks() # get the current tick locations and labels;\n",
    "\n",
    "# loop through each pair of locations and labels\n",
    "for loc, label in zip(locs, labels):\n",
    "\n",
    "    # get the text property for the label to get the correct count\n",
    "    count = cat_counts[label.get_text()]\n",
    "    pct_string = '{:0.1f}%'.format(100*count/n_points)\n",
    "\n",
    "    # print the annotation just below the top of the bar\n",
    "    plt.text(loc, count-8, pct_string, ha = 'center', color = 'black')\n"
   ]
  },
  {
   "cell_type": "markdown",
   "metadata": {},
   "source": [
    "We can see that July and March represent more than 20% of the trips in 2019. \n",
    "\n",
    "Now, let's take a look at weekday."
   ]
  },
  {
   "cell_type": "code",
   "execution_count": 32,
   "metadata": {},
   "outputs": [
    {
     "data": {
      "text/plain": [
       "Tue    427640\n",
       "Thu    424474\n",
       "Wed    414448\n",
       "Fri    397284\n",
       "Mon    396463\n",
       "Sat    234370\n",
       "Sun    212304\n",
       "Name: weekday, dtype: int64"
      ]
     },
     "execution_count": 32,
     "metadata": {},
     "output_type": "execute_result"
    }
   ],
   "source": [
    "trips.weekday.value_counts()"
   ]
  },
  {
   "cell_type": "markdown",
   "metadata": {},
   "source": [
    "The most popular day is Tuesday and the least Sunday. The difference between week and weekend is quite salient if we visualize it:"
   ]
  },
  {
   "cell_type": "code",
   "execution_count": 33,
   "metadata": {},
   "outputs": [
    {
     "data": {
      "image/png": "[encoded data removed]",
      "text/plain": [
       "<Figure size 432x288 with 1 Axes>"
      ]
     },
     "metadata": {
      "needs_background": "light"
     },
     "output_type": "display_data"
    }
   ],
   "source": [
    "sns.countplot(data = trips, x = 'weekday', color=base_color);"
   ]
  },
  {
   "cell_type": "markdown",
   "metadata": {},
   "source": [
    "If we look at relative frequencies:"
   ]
  },
  {
   "cell_type": "code",
   "execution_count": 34,
   "metadata": {},
   "outputs": [
    {
     "data": {
      "image/png": "[encoded data removed]",
      "text/plain": [
       "<Figure size 1080x360 with 1 Axes>"
      ]
     },
     "metadata": {
      "needs_background": "light"
     },
     "output_type": "display_data"
    }
   ],
   "source": [
    "plt.figure(figsize=(15,5))\n",
    "n_points = trips.shape[0]\n",
    "cat_counts = trips['weekday'].value_counts()\n",
    "max_count = cat_counts.max()\n",
    "max_prop = max_count / n_points\n",
    "\n",
    "# generate tick mark locations and names\n",
    "tick_props = np.arange(0, max_prop, 0.05)\n",
    "tick_names = ['{:0.2f}'.format(v) for v in tick_props]\n",
    "\n",
    "# create the plot\n",
    "sns.countplot(data = trips, x = 'weekday', color = base_color)\n",
    "plt.yticks(tick_props * n_points, tick_names)\n",
    "plt.ylabel('proportion')\n",
    "locs, labels = plt.xticks() # get the current tick locations and labels;\n",
    "\n",
    "# loop through each pair of locations and labels\n",
    "for loc, label in zip(locs, labels):\n",
    "\n",
    "    # get the text property for the label to get the correct count\n",
    "    count = cat_counts[label.get_text()]\n",
    "    pct_string = '{:0.1f}%'.format(100*count/n_points)\n",
    "\n",
    "    # print the annotation just below the top of the bar\n",
    "    plt.text(loc, count-8, pct_string, ha = 'center', color = 'black')\n"
   ]
  },
  {
   "cell_type": "markdown",
   "metadata": {},
   "source": [
    "Weekends represent less than 20% of the trips.\n",
    "\n",
    "Finally, let's take a look at the hours in a day."
   ]
  },
  {
   "cell_type": "code",
   "execution_count": 35,
   "metadata": {},
   "outputs": [
    {
     "data": {
      "text/plain": [
       "17    296831\n",
       "08    278632\n",
       "18    233587\n",
       "09    215877\n",
       "16    193253\n",
       "19    143924\n",
       "07    142099\n",
       "15    124925\n",
       "12    114164\n",
       "13    111727\n",
       "10    110032\n",
       "14    108157\n",
       "11    103194\n",
       "20     92283\n",
       "21     65063\n",
       "06     53574\n",
       "22     44412\n",
       "23     26393\n",
       "00     14686\n",
       "05     13479\n",
       "01      8788\n",
       "02      5682\n",
       "04      3442\n",
       "03      2779\n",
       "Name: hour, dtype: int64"
      ]
     },
     "execution_count": 35,
     "metadata": {},
     "output_type": "execute_result"
    }
   ],
   "source": [
    "trips.hour.value_counts()"
   ]
  },
  {
   "cell_type": "markdown",
   "metadata": {},
   "source": [
    "17:00 is the most popular time and 03:00 is the least.\n",
    "\n",
    "If we plot this, we can see two clear peaks between 07:00 and 10:00 and 16:00 and 19:00."
   ]
  },
  {
   "cell_type": "code",
   "execution_count": 36,
   "metadata": {},
   "outputs": [
    {
     "data": {
      "image/png": "[encoded data removed]",
      "text/plain": [
       "<Figure size 720x360 with 1 Axes>"
      ]
     },
     "metadata": {
      "needs_background": "light"
     },
     "output_type": "display_data"
    }
   ],
   "source": [
    "plt.figure(figsize=(10,5))\n",
    "sns.countplot(data = trips, x = 'hour', color=base_color);"
   ]
  },
  {
   "cell_type": "markdown",
   "metadata": {},
   "source": [
    "The relative frequencies are:"
   ]
  },
  {
   "cell_type": "code",
   "execution_count": 37,
   "metadata": {},
   "outputs": [
    {
     "data": {
      "image/png": "[encoded data removed]",
      "text/plain": [
       "<Figure size 1080x360 with 1 Axes>"
      ]
     },
     "metadata": {
      "needs_background": "light"
     },
     "output_type": "display_data"
    }
   ],
   "source": [
    "plt.figure(figsize=(15,5))\n",
    "n_points = trips.shape[0]\n",
    "cat_counts = trips['hour'].value_counts()\n",
    "max_count = cat_counts.max()\n",
    "max_prop = max_count / n_points\n",
    "\n",
    "# generate tick mark locations and names\n",
    "tick_props = np.arange(0, max_prop, 0.05)\n",
    "tick_names = ['{:0.2f}'.format(v) for v in tick_props]\n",
    "\n",
    "# create the plot\n",
    "sns.countplot(data = trips, x = 'hour', color = base_color)\n",
    "plt.yticks(tick_props * n_points, tick_names)\n",
    "plt.ylabel('proportion')\n",
    "locs, labels = plt.xticks() # get the current tick locations and labels;\n",
    "\n",
    "# loop through each pair of locations and labels\n",
    "for loc, label in zip(locs, labels):\n",
    "\n",
    "    # get the text property for the label to get the correct count\n",
    "    count = cat_counts[label.get_text()]\n",
    "    pct_string = '{:0.1f}%'.format(100*count/n_points)\n",
    "\n",
    "    # print the annotation just below the top of the bar\n",
    "    plt.text(loc, count-8, pct_string, ha = 'center', color = 'black')\n"
   ]
  },
  {
   "cell_type": "markdown",
   "metadata": {},
   "source": [
    "54.2% of the trips take place during the peaks that we previously identified."
   ]
  },
  {
   "cell_type": "markdown",
   "metadata": {},
   "source": [
    "Question 2: **How long does the average trip take?**\n",
    "\n",
    "To answer this, let's first take a look at the properties of the duration_sec variable."
   ]
  },
  {
   "cell_type": "code",
   "execution_count": 38,
   "metadata": {},
   "outputs": [
    {
     "data": {
      "text/plain": [
       "count    2.506983e+06\n",
       "mean     8.076483e+02\n",
       "std      1.974714e+03\n",
       "min      6.000000e+01\n",
       "25%      3.590000e+02\n",
       "50%      5.710000e+02\n",
       "75%      8.870000e+02\n",
       "max      9.121100e+05\n",
       "Name: duration_sec, dtype: float64"
      ]
     },
     "execution_count": 38,
     "metadata": {},
     "output_type": "execute_result"
    }
   ],
   "source": [
    "trips.duration_sec.describe()"
   ]
  },
  {
   "cell_type": "markdown",
   "metadata": {},
   "source": [
    "The maximum values is really high compared to the mean and so is the standard deviation.\n",
    "\n",
    "Let's try to visualize this."
   ]
  },
  {
   "cell_type": "code",
   "execution_count": 39,
   "metadata": {},
   "outputs": [
    {
     "data": {
      "text/plain": [
       "(0, 10000)"
      ]
     },
     "execution_count": 39,
     "metadata": {},
     "output_type": "execute_result"
    },
    {
     "data": {
      "image/png": "[encoded data removed]",
      "text/plain": [
       "<Figure size 432x288 with 1 Axes>"
      ]
     },
     "metadata": {
      "needs_background": "light"
     },
     "output_type": "display_data"
    }
   ],
   "source": [
    "# after several attempts I have decided to zoom in on values from 0 to 1000.\n",
    "bin_edges = np.arange(0, 10000 + 1, 1)\n",
    "plt.hist(data = trips, x = 'duration_sec', bins = bin_edges)\n",
    "plt.xlim(0, 10000)"
   ]
  },
  {
   "cell_type": "markdown",
   "metadata": {},
   "source": [
    "I looks like most of the values are within the previous range. \n",
    "\n",
    "It is a very right skewed historgram with a very long tail.\n",
    "\n",
    "I will do a logarithmic transformation, to have a better view of the main interval of duration_sec."
   ]
  },
  {
   "cell_type": "code",
   "execution_count": 40,
   "metadata": {},
   "outputs": [
    {
     "data": {
      "image/png": "[encoded data removed]",
      "text/plain": [
       "<Figure size 432x288 with 1 Axes>"
      ]
     },
     "metadata": {
      "needs_background": "light"
     },
     "output_type": "display_data"
    }
   ],
   "source": [
    "# log transformation and plotting between 60 and 10000)\n",
    "bin_edges = 10 ** np.arange(0.8, np.log10(trips.duration_sec.max())+0.1, 0.1)\n",
    "plt.hist(trips.duration_sec, bins = bin_edges)\n",
    "plt.xscale('log')\n",
    "tick_locs = [10, 30, 100, 300, 1000, 3000, 10000, 30000]\n",
    "plt.xticks(tick_locs, tick_locs, rotation = 90)\n",
    "plt.xlim(60, 10000);"
   ]
  },
  {
   "cell_type": "markdown",
   "metadata": {},
   "source": [
    "This creates a normally distributed histogram, with most values between 60 and 10000.\n",
    "\n",
    "Despite the outliers, it seems like an average duration of 800 is not far away from reality. \n",
    "\n",
    "Looking at the histogram, I would say something around 500 would be more accurate."
   ]
  },
  {
   "cell_type": "code",
   "execution_count": 41,
   "metadata": {},
   "outputs": [
    {
     "data": {
      "text/html": [
       "<div>\n",
       "<style scoped>\n",
       "    .dataframe tbody tr th:only-of-type {\n",
       "        vertical-align: middle;\n",
       "    }\n",
       "\n",
       "    .dataframe tbody tr th {\n",
       "        vertical-align: top;\n",
       "    }\n",
       "\n",
       "    .dataframe thead th {\n",
       "        text-align: right;\n",
       "    }\n",
       "</style>\n",
       "<table border=\"1\" class=\"dataframe\">\n",
       "  <thead>\n",
       "    <tr style=\"text-align: right;\">\n",
       "      <th></th>\n",
       "      <th>duration_sec</th>\n",
       "    </tr>\n",
       "  </thead>\n",
       "  <tbody>\n",
       "    <tr>\n",
       "      <th>count</th>\n",
       "      <td>2.016995e+06</td>\n",
       "    </tr>\n",
       "    <tr>\n",
       "      <th>mean</th>\n",
       "      <td>5.058520e+02</td>\n",
       "    </tr>\n",
       "    <tr>\n",
       "      <th>std</th>\n",
       "      <td>2.292119e+02</td>\n",
       "    </tr>\n",
       "    <tr>\n",
       "      <th>min</th>\n",
       "      <td>6.100000e+01</td>\n",
       "    </tr>\n",
       "    <tr>\n",
       "      <th>25%</th>\n",
       "      <td>3.200000e+02</td>\n",
       "    </tr>\n",
       "    <tr>\n",
       "      <th>50%</th>\n",
       "      <td>4.830000e+02</td>\n",
       "    </tr>\n",
       "    <tr>\n",
       "      <th>75%</th>\n",
       "      <td>6.780000e+02</td>\n",
       "    </tr>\n",
       "    <tr>\n",
       "      <th>max</th>\n",
       "      <td>9.990000e+02</td>\n",
       "    </tr>\n",
       "  </tbody>\n",
       "</table>\n",
       "</div>"
      ],
      "text/plain": [
       "       duration_sec\n",
       "count  2.016995e+06\n",
       "mean   5.058520e+02\n",
       "std    2.292119e+02\n",
       "min    6.100000e+01\n",
       "25%    3.200000e+02\n",
       "50%    4.830000e+02\n",
       "75%    6.780000e+02\n",
       "max    9.990000e+02"
      ]
     },
     "execution_count": 41,
     "metadata": {},
     "output_type": "execute_result"
    }
   ],
   "source": [
    "# filter the data frame and get a descriptive summary\n",
    "trips_f = trips[(trips['duration_sec'] > 60) & (trips['duration_sec'] < 1000)]\n",
    "trips_f.describe()"
   ]
  },
  {
   "cell_type": "markdown",
   "metadata": {},
   "source": [
    "### Bivariate Exploration"
   ]
  },
  {
   "cell_type": "markdown",
   "metadata": {},
   "source": [
    "Here I will look at the average time for trips with a duration of more than 60 seconds and less that 1000 seconds, for each month, weekday and hour."
   ]
  },
  {
   "cell_type": "code",
   "execution_count": 42,
   "metadata": {},
   "outputs": [],
   "source": [
    "# filter the data frame\n",
    "trips_f = trips[(trips['duration_sec'] > 60) & (trips['duration_sec'] < 1000)]"
   ]
  },
  {
   "cell_type": "markdown",
   "metadata": {},
   "source": [
    "The duration in seconds per month:"
   ]
  },
  {
   "cell_type": "code",
   "execution_count": 43,
   "metadata": {},
   "outputs": [
    {
     "data": {
      "image/png": "[encoded data removed]",
      "text/plain": [
       "<Figure size 1080x360 with 1 Axes>"
      ]
     },
     "metadata": {
      "needs_background": "light"
     },
     "output_type": "display_data"
    }
   ],
   "source": [
    "plt.figure(figsize=(15,5))\n",
    "plt.rc('font', size=12)\n",
    "sns.boxplot(data = trips_f, x = 'month', y = 'duration_sec', color = base_color);"
   ]
  },
  {
   "cell_type": "markdown",
   "metadata": {},
   "source": [
    "It doesn't seem to vary much, with average values between 400 and 500.\n",
    "\n",
    "Duration is seconds per weekday."
   ]
  },
  {
   "cell_type": "code",
   "execution_count": 44,
   "metadata": {},
   "outputs": [
    {
     "data": {
      "image/png": "[encoded data removed]",
      "text/plain": [
       "<Figure size 1080x360 with 1 Axes>"
      ]
     },
     "metadata": {
      "needs_background": "light"
     },
     "output_type": "display_data"
    }
   ],
   "source": [
    "plt.figure(figsize=(15,5))\n",
    "plt.rc('font', size=12)\n",
    "sns.boxplot(data = trips_f, x = 'weekday', y = 'duration_sec', color = base_color);"
   ]
  },
  {
   "cell_type": "markdown",
   "metadata": {},
   "source": [
    "Duration is very stable between weekdays. Even if we compare week and weekend.\n",
    "\n",
    "Duration in seconds per hour of the day:"
   ]
  },
  {
   "cell_type": "code",
   "execution_count": 45,
   "metadata": {},
   "outputs": [
    {
     "data": {
      "image/png": "[encoded data removed]",
      "text/plain": [
       "<Figure size 1080x360 with 1 Axes>"
      ]
     },
     "metadata": {
      "needs_background": "light"
     },
     "output_type": "display_data"
    }
   ],
   "source": [
    "plt.figure(figsize=(15,5))\n",
    "plt.rc('font', size=12)\n",
    "sns.boxplot(data = trips_f, x = 'hour', y = 'duration_sec', color = base_color);"
   ]
  },
  {
   "cell_type": "markdown",
   "metadata": {},
   "source": [
    "There is more variability here. It is possible to see similar peaks as we saw in the count of trips per hour of the day. However, there are some hight values between 02:00 and 04:00, which were not present in the count of trips per hour. This could mean that at that time there is a low frequency of trips, but duration is longer than at other times."
   ]
  },
  {
   "cell_type": "markdown",
   "metadata": {},
   "source": [
    "### Multivariate Exploration"
   ]
  },
  {
   "cell_type": "markdown",
   "metadata": {},
   "source": [
    "Question 3: **Does the duration of a trip per month, weekday or hour depend on if a user is a subscriber or customer?**"
   ]
  },
  {
   "cell_type": "markdown",
   "metadata": {},
   "source": [
    "To answer this question, I will look into, in each case two qualitative variables (month, weekday and hour on the one hand, and user_type on the other) and a quantitative varibale (duration_sec)."
   ]
  },
  {
   "cell_type": "markdown",
   "metadata": {},
   "source": [
    "First I will do a bivariate comparison between duration and user_type:"
   ]
  },
  {
   "cell_type": "code",
   "execution_count": 46,
   "metadata": {},
   "outputs": [
    {
     "data": {
      "image/png": "[encoded data removed]",
      "text/plain": [
       "<Figure size 432x288 with 1 Axes>"
      ]
     },
     "metadata": {
      "needs_background": "light"
     },
     "output_type": "display_data"
    }
   ],
   "source": [
    "sns.boxplot(data = trips_f, x = 'user_type', y = 'duration_sec');"
   ]
  },
  {
   "cell_type": "markdown",
   "metadata": {},
   "source": [
    "It looks like subscriber durations are lower than customers on average."
   ]
  },
  {
   "cell_type": "markdown",
   "metadata": {},
   "source": [
    "It would be interesting to have and idea of the distribution of the user_type variable:"
   ]
  },
  {
   "cell_type": "code",
   "execution_count": 47,
   "metadata": {},
   "outputs": [
    {
     "data": {
      "image/png": "[encoded data removed]",
      "text/plain": [
       "<Figure size 432x288 with 1 Axes>"
      ]
     },
     "metadata": {
      "needs_background": "light"
     },
     "output_type": "display_data"
    }
   ],
   "source": [
    "sns.countplot(data = trips_f, x = 'user_type', color=base_color);"
   ]
  },
  {
   "cell_type": "code",
   "execution_count": 48,
   "metadata": {},
   "outputs": [
    {
     "data": {
      "text/plain": [
       "Subscriber    1713020\n",
       "Customer       303975\n",
       "Name: user_type, dtype: int64"
      ]
     },
     "execution_count": 48,
     "metadata": {},
     "output_type": "execute_result"
    }
   ],
   "source": [
    "trips_f.user_type.value_counts()"
   ]
  },
  {
   "cell_type": "markdown",
   "metadata": {},
   "source": [
    "From the graph and values, we can clearly see that the number of customers is not even 20% of the number of users.\n",
    "\n",
    "This makes could be affecting the duration mean."
   ]
  },
  {
   "cell_type": "markdown",
   "metadata": {},
   "source": [
    "Let's now do a multivariate comparison of duration, user type and month:"
   ]
  },
  {
   "cell_type": "code",
   "execution_count": 49,
   "metadata": {},
   "outputs": [
    {
     "data": {
      "image/png": "[encoded data removed]",
      "text/plain": [
       "<Figure size 576x288 with 2 Axes>"
      ]
     },
     "metadata": {
      "needs_background": "light"
     },
     "output_type": "display_data"
    }
   ],
   "source": [
    "g = sns.FacetGrid(data = trips_f, col = 'user_type', height = 4)\n",
    "g.map(sns.boxplot, 'duration_sec', 'month');"
   ]
  },
  {
   "cell_type": "markdown",
   "metadata": {},
   "source": [
    "Again, it looks like subscriber durations are lower than customers on average by month.\n",
    "\n",
    "Multivariate comparison of duration, user type and weekday:"
   ]
  },
  {
   "cell_type": "code",
   "execution_count": 50,
   "metadata": {},
   "outputs": [
    {
     "data": {
      "image/png": "[encoded data removed]",
      "text/plain": [
       "<Figure size 576x288 with 2 Axes>"
      ]
     },
     "metadata": {
      "needs_background": "light"
     },
     "output_type": "display_data"
    }
   ],
   "source": [
    "g = sns.FacetGrid(data = trips_f, col = 'user_type', height = 4)\n",
    "g.map(sns.boxplot, 'duration_sec', 'weekday');"
   ]
  },
  {
   "cell_type": "markdown",
   "metadata": {},
   "source": [
    "And again, it looks like subscriber durations are lower than customers on average by weekday.\n",
    "\n",
    "Finally, multivariate comparison of duration, user type and hour:"
   ]
  },
  {
   "cell_type": "code",
   "execution_count": 51,
   "metadata": {},
   "outputs": [
    {
     "data": {
      "image/png": "[encoded data removed]",
      "text/plain": [
       "<Figure size 720x360 with 2 Axes>"
      ]
     },
     "metadata": {
      "needs_background": "light"
     },
     "output_type": "display_data"
    }
   ],
   "source": [
    "g = sns.FacetGrid(data = trips_f, col = 'user_type', height = 5)\n",
    "g.map(sns.boxplot, 'duration_sec', 'hour');"
   ]
  },
  {
   "cell_type": "markdown",
   "metadata": {},
   "source": [
    "Subscriber means are lower on average than Customer's. There seems to be some outliers in the Subscriber graph for 04:00."
   ]
  },
  {
   "cell_type": "markdown",
   "metadata": {},
   "source": [
    "### Heat Map"
   ]
  },
  {
   "cell_type": "markdown",
   "metadata": {},
   "source": [
    "To complete this exploration, I will create an interactive heat map using the latitudes and longitudes from the dataset."
   ]
  },
  {
   "cell_type": "code",
   "execution_count": 52,
   "metadata": {},
   "outputs": [],
   "source": [
    "# create a new data frame with lat and lon as float\n",
    "trips_loc = trips[['lat', 'lon']].astype(float)"
   ]
  },
  {
   "cell_type": "code",
   "execution_count": 53,
   "metadata": {},
   "outputs": [],
   "source": [
    "# add variable intensity to use it in the creation of the heat map\n",
    "trips_loc['intensity'] = 1"
   ]
  },
  {
   "cell_type": "code",
   "execution_count": 54,
   "metadata": {},
   "outputs": [],
   "source": [
    "# create a tuple with the locations and intensity\n",
    "locations = list(zip(trips_loc.lat, trips_loc.lon, trips_loc.intensity))"
   ]
  },
  {
   "cell_type": "code",
   "execution_count": 55,
   "metadata": {},
   "outputs": [
    {
     "data": {
      "application/vnd.jupyter.widget-view+json": {
       "model_id": "2183adf6747e4adc91048d78ff171076",
       "version_major": 2,
       "version_minor": 0
      },
      "text/plain": [
       "Map(center=[37.60212, -122.208263], controls=(ZoomControl(options=['position', 'zoom_in_text', 'zoom_in_title'…"
      ]
     },
     "metadata": {},
     "output_type": "display_data"
    }
   ],
   "source": [
    "# create heat map\n",
    "m = Map(center=[37.602120, -122.208263], zoom=9)\n",
    "\n",
    "heat = Heatmap(locations=locations, radius=20, blur=20)\n",
    "m.add_layer(heat)\n",
    "\n",
    "# change some attributes of the heatmap\n",
    "heat.radius = 30\n",
    "heat.blur = 50\n",
    "heat.max = 0.5\n",
    "heat.gradient = {0.4: 'blue', 0.6: 'cyan', 0.7: 'lime', 0.8: 'yellow', 1.0: 'red'}\n",
    "m"
   ]
  },
  {
   "cell_type": "code",
   "execution_count": 60,
   "metadata": {},
   "outputs": [],
   "source": [
    "# the map cannot be seen in the HTML version of this document\n",
    "# I am saving the map to an HTML document of its own\n",
    "# if you are interested in checking it out, please be aware that it might take some time to load in your browser\n",
    "# the file is around 200 MB, so if will not be included\n",
    "# the best solution is to run this notebook\n",
    "m.save('my_map.html', title='My Map')"
   ]
  },
  {
   "cell_type": "markdown",
   "metadata": {},
   "source": [
    "With this heat map we can see where most of the trips start. It is possible to zoom in an out and the heat map layout changes showing more details into the areas where more and less trips start."
   ]
  },
  {
   "cell_type": "markdown",
   "metadata": {},
   "source": [
    "## Explanatory Summary"
   ]
  },
  {
   "cell_type": "markdown",
   "metadata": {},
   "source": [
    "1. Question 1: **When are most trips taken in terms of time of day, day of the week, or month of the year?**\n",
    "\n",
    "In terms of:\n",
    "- Time of day: 17:00\n",
    "- Day of the week: Tuesday\n",
    "- Month of the year: July\n",
    "\n",
    "**Other interesting insights**:\n",
    "\n",
    "- Month:\n",
    "\n",
    "The least popular month is December.\n",
    "\n",
    "July and March represent more than 20% of the trips in 2019.\n",
    "\n",
    "- Day of the week:\n",
    "\n",
    "Weekend days have around half less trips than regular week days.\n",
    "\n",
    "- Time of day:\n",
    "\n",
    "3:00 is the least popular time.\n",
    "\n",
    "There are two clear peaks between 07:00 and 10:00 and 16:00 and 19:00. This represent 54.2% of the trips in a day on average.\n",
    "\n",
    "\n",
    "2. Question 2: **How long does the average trip take?**\n",
    "\n",
    "The average trips takes around 500 seconds. This is after wrangling the data.\n",
    "\n",
    "The orginal dataset shows an average of 800 seconds. However, this includes many, very high outliers.\n",
    "\n",
    "**Other interesting insights**:\n",
    "\n",
    "Most trips fall into the interval of 60 to 10000 seconds.\n",
    "\n",
    "The largest amount of trips fall into the interval of 300 to 700 seconds.\n",
    "\n",
    "\n",
    "3. Question 3: **Does the duration of a trip per month, weekday or hour depend on if a user is a subscriber or customer?**\n",
    "\n",
    "Yes. The average duration for the subscriber is lower in all cases.\n",
    "\n",
    "**Other interesting insights**:\n",
    "\n",
    "Less than 20% of the users are customers.\n",
    "\n",
    "- **Additional Insights**\n",
    "\n",
    "The heat map shows that the trips' starting locations are in San Francisco, Oakland and San Jose."
   ]
  },
  {
   "cell_type": "markdown",
   "metadata": {},
   "source": [
    "## Resources"
   ]
  },
  {
   "cell_type": "markdown",
   "metadata": {},
   "source": [
    "- Combine CSV files: https://www.freecodecamp.org/news/how-to-combine-multiple-csv-files-with-8-lines-of-code-265183e0854/\n",
    "- Convert start_time to string months and weekdays: https://strftime.org/\n",
    "- Heat map: https://ipyleaflet.readthedocs.io/en/latest/api_reference/heatmap.html"
   ]
  },
  {
   "cell_type": "code",
   "execution_count": 56,
   "metadata": {},
   "outputs": [],
   "source": [
    "# create CSV files for the slides\n",
    "trips.to_csv(\"trips.csv\", index=False)\n",
    "trips_loc.to_csv(\"trips_locations.csv\", index=False)"
   ]
  },
  {
   "cell_type": "code",
   "execution_count": null,
   "metadata": {},
   "outputs": [],
   "source": []
  }
 ],
 "metadata": {
  "kernelspec": {
   "display_name": "Python 3",
   "language": "python",
   "name": "python3"
  },
  "language_info": {
   "codemirror_mode": {
    "name": "ipython",
    "version": 3
   },
   "file_extension": ".py",
   "mimetype": "text/x-python",
   "name": "python",
   "nbconvert_exporter": "python",
   "pygments_lexer": "ipython3",
   "version": "3.7.6"
  }
 },
 "nbformat": 4,
 "nbformat_minor": 4
}
