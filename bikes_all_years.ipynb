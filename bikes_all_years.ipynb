{
 "cells": [
  {
   "cell_type": "code",
   "execution_count": 1,
   "metadata": {},
   "outputs": [],
   "source": [
    "import os\n",
    "import glob\n",
    "import pandas as pd\n",
    "import requests\n",
    "import zipfile"
   ]
  },
  {
   "cell_type": "code",
   "execution_count": 90,
   "metadata": {},
   "outputs": [],
   "source": [
    "urls = ['https://s3.amazonaws.com/baywheels-data/2017-fordgobike-tripdata.csv.zip']\n",
    "for year in ['2018', '2019', '2020']:\n",
    "        for n in range(1,13):\n",
    "            if n < 10 and year != '2020':\n",
    "                url = 'https://s3.amazonaws.com/baywheels-data/{}0{}-fordgobike-tripdata.csv.zip'.format(year, n)\n",
    "                urls.append(url)\n",
    "            elif n > 10 and year != '2020':\n",
    "                url = 'https://s3.amazonaws.com/baywheels-data/{}{}-fordgobike-tripdata.csv.zip'.format(year, n)\n",
    "                urls.append(url)\n",
    "            elif year == '2020' and n < 7:\n",
    "                url = 'https://s3.amazonaws.com/baywheels-data/{}0{}-fordgobike-tripdata.csv.zip'.format(year, n)\n",
    "                urls.append(url)"
   ]
  },
  {
   "cell_type": "code",
   "execution_count": 94,
   "metadata": {},
   "outputs": [],
   "source": [
    "for i in range(16,29):\n",
    "    urls[i] = urls[i].replace('fordgobike', 'baywheels')"
   ]
  },
  {
   "cell_type": "code",
   "execution_count": 97,
   "metadata": {},
   "outputs": [],
   "source": [
    "n = 0\n",
    "for i in urls:\n",
    "    csv_request = requests.get(i, allow_redirects=True)\n",
    "    open(urls[n][40:], 'wb').write(csv_request.content)\n",
    "    with zipfile.ZipFile(urls[n][40:], 'r') as zip_ref:\n",
    "        zip_ref.extractall()\n",
    "    os.remove(urls[n][40:])\n",
    "    n += 1"
   ]
  },
  {
   "cell_type": "code",
   "execution_count": 20,
   "metadata": {},
   "outputs": [],
   "source": [
    "extension = 'csv'\n",
    "all_filenames = [i for i in glob.glob('*.{}'.format(extension))]"
   ]
  },
  {
   "cell_type": "code",
   "execution_count": 21,
   "metadata": {},
   "outputs": [
    {
     "data": {
      "text/plain": [
       "['201909-baywheels-tripdata.csv',\n",
       " '201904-fordgobike-tripdata.csv',\n",
       " '201907-baywheels-tripdata.csv',\n",
       " '201903-fordgobike-tripdata.csv',\n",
       " '201906-baywheels-tripdata.csv',\n",
       " '201908-baywheels-tripdata.csv',\n",
       " '201905-baywheels-tripdata.csv',\n",
       " '201901-fordgobike-tripdata.csv',\n",
       " '201912-baywheels-tripdata.csv',\n",
       " '201911-baywheels-tripdata.csv',\n",
       " '201902-fordgobike-tripdata.csv']"
      ]
     },
     "execution_count": 21,
     "metadata": {},
     "output_type": "execute_result"
    }
   ],
   "source": [
    "all_filenames"
   ]
  },
  {
   "cell_type": "code",
   "execution_count": 22,
   "metadata": {},
   "outputs": [],
   "source": [
    "#combine all files in the list\n",
    "combined_csv = pd.concat([pd.read_csv(f) for f in all_filenames ])\n",
    "#export to csv\n",
    "combined_csv.to_csv( \"fordgobike.csv\", index=False, encoding='utf-8')"
   ]
  },
  {
   "cell_type": "code",
   "execution_count": 30,
   "metadata": {},
   "outputs": [],
   "source": [
    "df = pd.read_csv('fordgobike.csv')"
   ]
  },
  {
   "cell_type": "code",
   "execution_count": 31,
   "metadata": {},
   "outputs": [
    {
     "name": "stdout",
     "output_type": "stream",
     "text": [
      "<class 'pandas.core.frame.DataFrame'>\n",
      "RangeIndex: 2267088 entries, 0 to 2267087\n",
      "Data columns (total 15 columns):\n",
      " #   Column                   Non-Null Count    Dtype  \n",
      "---  ------                   --------------    -----  \n",
      " 0   duration_sec             2267088 non-null  int64  \n",
      " 1   start_time               2267088 non-null  object \n",
      " 2   end_time                 2267088 non-null  object \n",
      " 3   start_station_id         2186354 non-null  float64\n",
      " 4   start_station_name       2186955 non-null  object \n",
      " 5   start_station_latitude   2267088 non-null  float64\n",
      " 6   start_station_longitude  2267088 non-null  float64\n",
      " 7   end_station_id           2184186 non-null  float64\n",
      " 8   end_station_name         2184738 non-null  object \n",
      " 9   end_station_latitude     2267088 non-null  float64\n",
      " 10  end_station_longitude    2267088 non-null  float64\n",
      " 11  bike_id                  2267088 non-null  int64  \n",
      " 12  user_type                2267088 non-null  object \n",
      " 13  bike_share_for_all_trip  2023829 non-null  object \n",
      " 14  rental_access_method     120838 non-null   object \n",
      "dtypes: float64(6), int64(2), object(7)\n",
      "memory usage: 259.4+ MB\n"
     ]
    }
   ],
   "source": [
    "df.info(null_counts=True)"
   ]
  },
  {
   "cell_type": "code",
   "execution_count": 32,
   "metadata": {},
   "outputs": [
    {
     "data": {
      "text/plain": [
       "duration_sec                 14633\n",
       "start_time                 2262241\n",
       "end_time                   2262243\n",
       "start_station_id               435\n",
       "start_station_name             445\n",
       "start_station_latitude       74717\n",
       "start_station_longitude      75941\n",
       "end_station_id                 435\n",
       "end_station_name               445\n",
       "end_station_latitude         76903\n",
       "end_station_longitude        77993\n",
       "bike_id                      11058\n",
       "user_type                        2\n",
       "bike_share_for_all_trip          2\n",
       "rental_access_method             2\n",
       "dtype: int64"
      ]
     },
     "execution_count": 32,
     "metadata": {},
     "output_type": "execute_result"
    }
   ],
   "source": [
    "df.nunique()"
   ]
  },
  {
   "cell_type": "code",
   "execution_count": 33,
   "metadata": {},
   "outputs": [
    {
     "data": {
      "text/plain": [
       "No     1864536\n",
       "Yes     159293\n",
       "Name: bike_share_for_all_trip, dtype: int64"
      ]
     },
     "execution_count": 33,
     "metadata": {},
     "output_type": "execute_result"
    }
   ],
   "source": [
    "df.bike_share_for_all_trip.value_counts()"
   ]
  },
  {
   "cell_type": "code",
   "execution_count": 34,
   "metadata": {},
   "outputs": [
    {
     "data": {
      "text/plain": [
       "app        108010\n",
       "clipper     12828\n",
       "Name: rental_access_method, dtype: int64"
      ]
     },
     "execution_count": 34,
     "metadata": {},
     "output_type": "execute_result"
    }
   ],
   "source": [
    "df.rental_access_method.value_counts()"
   ]
  },
  {
   "cell_type": "code",
   "execution_count": null,
   "metadata": {},
   "outputs": [],
   "source": []
  }
 ],
 "metadata": {
  "kernelspec": {
   "display_name": "Python 3",
   "language": "python",
   "name": "python3"
  },
  "language_info": {
   "codemirror_mode": {
    "name": "ipython",
    "version": 3
   },
   "file_extension": ".py",
   "mimetype": "text/x-python",
   "name": "python",
   "nbconvert_exporter": "python",
   "pygments_lexer": "ipython3",
   "version": "3.7.6"
  }
 },
 "nbformat": 4,
 "nbformat_minor": 4
}
